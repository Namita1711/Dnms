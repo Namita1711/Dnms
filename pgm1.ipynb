{
 "cells": [
  {
   "cell_type": "markdown",
   "metadata": {},
   "source": [
    "# Animal.csv"
   ]
  },
  {
   "cell_type": "code",
   "execution_count": 24,
   "metadata": {},
   "outputs": [
    {
     "name": "stdout",
     "output_type": "stream",
     "text": [
      "     Eyes      Nose    Head  Fcolor Hair Smile\n",
      "0   Round  Triangle   Round  Purple  Yes   yes\n",
      "1  Square    Square  Square   Green  Yes    no\n",
      "2  Square  Triangle   Round  Yellow  Yes   yes\n",
      "3   Round  Triangle   Round   Green   No    no\n",
      "4  Square    Square   Round  Yellow  Yes   yes n\n",
      "\n",
      " The attributes are:\n",
      "  [['Round' 'Triangle' 'Round' 'Purple' 'Yes']\n",
      " ['Square' 'Square' 'Square' 'Green' 'Yes']\n",
      " ['Square' 'Triangle' 'Round' 'Yellow' 'Yes']\n",
      " ['Round' 'Triangle' 'Round' 'Green' 'No']\n",
      " ['Square' 'Square' 'Round' 'Yellow' 'Yes']]\n",
      "\n",
      " The target is:  ['yes' 'no' 'yes' 'no' 'yes']\n",
      "\n",
      " The final hypothesis is: ['?' '?' 'Round' '?' 'Yes']\n"
     ]
    }
   ],
   "source": [
    "import pandas as pd\n",
    "import numpy as np\n",
    " \n",
    "#to read the data in the csv file\n",
    "data = pd.read_csv(\"animal.csv\")\n",
    "print(data,\"n\")\n",
    " \n",
    "#making an array of all the attributes\n",
    "d = np.array(data)[:,:-1]\n",
    "print(\"\\n The attributes are:\\n \",d)\n",
    " \n",
    "#segragating the target that has positive and negative examples\n",
    "target = np.array(data)[:,-1]\n",
    "print(\"\\n The target is: \",target)\n",
    " \n",
    "#training function to implement find-s algorithm\n",
    "def train(c,t):\n",
    "    for i, val in enumerate(t):\n",
    "        if val == \"yes\":\n",
    "            specific_hypothesis = c[i].copy()\n",
    "            break\n",
    "             \n",
    "    for i, val in enumerate(c):\n",
    "        if t[i] == \"yes\":\n",
    "            for x in range(len(specific_hypothesis)):\n",
    "                if val[x] != specific_hypothesis[x]:\n",
    "                    specific_hypothesis[x] = '?'\n",
    "                else:\n",
    "                    pass\n",
    "                 \n",
    "    return specific_hypothesis\n",
    " \n",
    "#obtaining the final hypothesis\n",
    "print(\"\\n The final hypothesis is:\",train(d,target))"
   ]
  },
  {
   "cell_type": "code",
   "execution_count": 11,
   "metadata": {},
   "outputs": [
    {
     "name": "stdout",
     "output_type": "stream",
     "text": [
      "     Eyes      Nose    Head  Fcolor Hair Smile\n",
      "0   Round  Triangle   Round  Purple  Yes   yes\n",
      "1  Square    Square  Square   Green  Yes    no\n",
      "2  Square  Triangle   Round  Yellow  Yes   yes\n",
      "3   Round  Triangle   Round   Green   No    no\n",
      "4  Square    Square   Round  Yellow  Yes   yes n\n"
     ]
    }
   ],
   "source": [
    "#to read the data in the csv file\n",
    "data = pd.read_csv(\"animal.csv\")\n",
    "print(data,\"n\")"
   ]
  },
  {
   "cell_type": "code",
   "execution_count": 12,
   "metadata": {},
   "outputs": [
    {
     "name": "stdout",
     "output_type": "stream",
     "text": [
      "n The attributes are:  [['Round' 'Triangle' 'Round' 'Purple' 'Yes']\n",
      " ['Square' 'Square' 'Square' 'Green' 'Yes']\n",
      " ['Square' 'Triangle' 'Round' 'Yellow' 'Yes']\n",
      " ['Round' 'Triangle' 'Round' 'Green' 'No']\n",
      " ['Square' 'Square' 'Round' 'Yellow' 'Yes']]\n"
     ]
    }
   ],
   "source": [
    "#making an array of all the attributes\n",
    "d = np.array(data)[:,:-1]\n",
    "print(\"n The attributes are: \",d)"
   ]
  },
  {
   "cell_type": "code",
   "execution_count": 13,
   "metadata": {},
   "outputs": [
    {
     "name": "stdout",
     "output_type": "stream",
     "text": [
      "n The target is:  ['yes' 'no' 'yes' 'no' 'yes']\n"
     ]
    }
   ],
   "source": [
    "#segragating the target that has positive and negative examples\n",
    "target = np.array(data)[:,-1]\n",
    "print(\"n The target is: \",target)"
   ]
  },
  {
   "cell_type": "markdown",
   "metadata": {},
   "source": [
    "# Enjoysports.csv\n"
   ]
  },
  {
   "cell_type": "code",
   "execution_count": 26,
   "metadata": {},
   "outputs": [
    {
     "name": "stdout",
     "output_type": "stream",
     "text": [
      "     sky airtemp humidity    wind water forcast enjoysport\n",
      "0  sunny    warm   normal  strong  warm    same        yes\n",
      "1  sunny    warm     high  strong  warm    same        yes\n",
      "2  rainy    cold     high  strong  warm  change         no\n",
      "3  sunny    warm     high  strong  cool  change        yes n\n",
      "\n",
      " The attributes are:\n",
      "  [['sunny' 'warm' 'normal' 'strong' 'warm' 'same']\n",
      " ['sunny' 'warm' 'high' 'strong' 'warm' 'same']\n",
      " ['rainy' 'cold' 'high' 'strong' 'warm' 'change']\n",
      " ['sunny' 'warm' 'high' 'strong' 'cool' 'change']]\n",
      "\n",
      " The target is:  ['yes' 'yes' 'no' 'yes']\n",
      "\n",
      " The final hypothesis is: ['sunny' 'warm' '?' 'strong' '?' '?']\n"
     ]
    }
   ],
   "source": [
    "import pandas as pd\n",
    "import numpy as np\n",
    " \n",
    "#to read the data in the csv file\n",
    "data = pd.read_csv(\"enjoysport.csv\")\n",
    "print(data,\"n\")\n",
    " \n",
    "#making an array of all the attributes\n",
    "d = np.array(data)[:,:-1]\n",
    "print(\"\\n The attributes are:\\n \",d)\n",
    " \n",
    "#segragating the target that has positive and negative examples\n",
    "target = np.array(data)[:,-1]\n",
    "print(\"\\n The target is: \",target)\n",
    " \n",
    "#training function to implement find-s algorithm\n",
    "def train(c,t):\n",
    "    for i, val in enumerate(t):\n",
    "        if val == \"yes\":\n",
    "            specific_hypothesis = c[i].copy()\n",
    "            break\n",
    "             \n",
    "    for i, val in enumerate(c):\n",
    "        if t[i] == \"yes\":\n",
    "            for x in range(len(specific_hypothesis)):\n",
    "                if val[x] != specific_hypothesis[x]:\n",
    "                    specific_hypothesis[x] = '?'\n",
    "                else:\n",
    "                    pass\n",
    "                 \n",
    "    return specific_hypothesis\n",
    " \n",
    "#obtaining the final hypothesis\n",
    "print(\"\\n The final hypothesis is:\",train(d,target))"
   ]
  },
  {
   "cell_type": "markdown",
   "metadata": {},
   "source": [
    "# Books.csv"
   ]
  },
  {
   "cell_type": "code",
   "execution_count": 27,
   "metadata": {},
   "outputs": [
    {
     "name": "stdout",
     "output_type": "stream",
     "text": [
      "  Citations    Size inLibrary       Price Editions  Buy\n",
      "0      some   small        no  affordable     many   no\n",
      "1      many     big        no   expensive      one  yes\n",
      "2      some     big    always   expensive      few   no\n",
      "3      many  medium        no   expensive     many  yes\n",
      "4      many   small        no  affordable     many  yes n\n",
      "\n",
      " The attributes are:\n",
      "  [['some' 'small' 'no' 'affordable' 'many']\n",
      " ['many' 'big' 'no' 'expensive' 'one']\n",
      " ['some' 'big' 'always' 'expensive' 'few']\n",
      " ['many' 'medium' 'no' 'expensive' 'many']\n",
      " ['many' 'small' 'no' 'affordable' 'many']]\n",
      "\n",
      " The target is:  ['no' 'yes' 'no' 'yes' 'yes']\n",
      "\n",
      " The final hypothesis is: ['many' '?' 'no' '?' '?']\n"
     ]
    }
   ],
   "source": [
    "import pandas as pd\n",
    "import numpy as np\n",
    " \n",
    "#to read the data in the csv file\n",
    "data = pd.read_csv(\"books.csv\")\n",
    "print(data,\"n\")\n",
    " \n",
    "#making an array of all the attributes\n",
    "d = np.array(data)[:,:-1]\n",
    "print(\"\\n The attributes are:\\n \",d)\n",
    " \n",
    "#segragating the target that has positive and negative examples\n",
    "target = np.array(data)[:,-1]\n",
    "print(\"\\n The target is: \",target)\n",
    " \n",
    "#training function to implement find-s algorithm\n",
    "def train(c,t):\n",
    "    for i, val in enumerate(t):\n",
    "        if val == \"yes\":\n",
    "            specific_hypothesis = c[i].copy()\n",
    "            break\n",
    "             \n",
    "    for i, val in enumerate(c):\n",
    "        if t[i] == \"yes\":\n",
    "            for x in range(len(specific_hypothesis)):\n",
    "                if val[x] != specific_hypothesis[x]:\n",
    "                    specific_hypothesis[x] = '?'\n",
    "                else:\n",
    "                    pass\n",
    "                 \n",
    "    return specific_hypothesis\n",
    " \n",
    "#obtaining the final hypothesis\n",
    "print(\"\\n The final hypothesis is:\",train(d,target))"
   ]
  },
  {
   "cell_type": "code",
   "execution_count": null,
   "metadata": {},
   "outputs": [],
   "source": []
  }
 ],
 "metadata": {
  "kernelspec": {
   "display_name": "Python 3",
   "language": "python",
   "name": "python3"
  },
  "language_info": {
   "codemirror_mode": {
    "name": "ipython",
    "version": 3
   },
   "file_extension": ".py",
   "mimetype": "text/x-python",
   "name": "python",
   "nbconvert_exporter": "python",
   "pygments_lexer": "ipython3",
   "version": "3.7.0"
  }
 },
 "nbformat": 4,
 "nbformat_minor": 2
}
