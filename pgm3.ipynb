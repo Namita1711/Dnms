{
 "cells": [
  {
   "cell_type": "code",
   "execution_count": 7,
   "metadata": {},
   "outputs": [],
   "source": [
    "#Find Entropy Function\n",
    "import numpy as np\n",
    "def find_entropy(df):\n",
    "  Class = df.keys()[-1]\n",
    "  values = df[Class].unique()\n",
    "  entropy = 0\n",
    "  for value in values:\n",
    "    prob = df[Class].value_counts()[value]/len(df[Class])\n",
    "    entropy += -prob * np.log2(prob)\n",
    "  return np.float(entropy)\n",
    "# Find entropy attribute\n",
    "def find_entropy_attribute(df, attribute):\n",
    "  Class = df.keys()[-1]\n",
    "  target_values = df[Class].unique()\n",
    "  attribute_values = df[attribute].unique()\n",
    "  avg_entropy = 0\n",
    "  for value in attribute_values:\n",
    "    entropy = 0\n",
    "    for value1 in target_values:\n",
    "      num = len(df[attribute][df[attribute] == value][df[Class] == value1])\n",
    "      den = len(df[attribute][df[attribute] == value])\n",
    "      prob = num/den\n",
    "      entropy += -prob * np.log2(prob + 0.000001)\n",
    "    avg_entropy += (den/len(df))*entropy\n",
    "  return np.float(avg_entropy)"
   ]
  },
  {
   "cell_type": "code",
   "execution_count": 8,
   "metadata": {},
   "outputs": [],
   "source": [
    "# Find Winner\n",
    "def find_winner(df):\n",
    "  IG = [] \n",
    "    IG.append(find_entropy(df) - find_entropy_attribute(df, key))\n",
    "  return df.keys()[:-1][np.argmax(IG)]"
   ]
  },
  {
   "cell_type": "code",
   "execution_count": 9,
   "metadata": {},
   "outputs": [],
   "source": [
    "def get_subtable(df, attribute, value):\n",
    "  return df[df[attribute] == value].reset_index(drop = True)"
   ]
  },
  {
   "cell_type": "code",
   "execution_count": 10,
   "metadata": {},
   "outputs": [],
   "source": [
    "def buildtree(df, tree = None):\n",
    "  node = find_winner(df)\n",
    "  attvalue = np.unique(df[node])\n",
    "  Class = df.keys()[-1]\n",
    "  if tree is None:\n",
    "    tree = {}\n",
    "    tree[node] = {}\n",
    "  for value in attvalue:\n",
    "    subtable = get_subtable(df,node,value)\n",
    "    Clvalue, counts = np.unique(subtable[Class], return_counts = True)\n",
    "    if len(counts) == 1:\n",
    "      tree[node][value] = Clvalue[0]\n",
    "    else:\n",
    "      tree[node][value] = buildtree(subtable)\n",
    "  return tree"
   ]
  },
  {
   "cell_type": "code",
   "execution_count": 12,
   "metadata": {},
   "outputs": [],
   "source": [
    "import pandas as pd\n",
    "df = pd.read_csv('PlayTennis.csv')"
   ]
  },
  {
   "cell_type": "code",
   "execution_count": 13,
   "metadata": {},
   "outputs": [],
   "source": [
    "tree = buildtree(df)"
   ]
  },
  {
   "cell_type": "code",
   "execution_count": 14,
   "metadata": {},
   "outputs": [
    {
     "name": "stdout",
     "output_type": "stream",
     "text": [
      "{'Outlook': {'Overcast': 'Yes',\n",
      "             'Rain': {'Wind': {'Strong': 'No', 'Weak': 'Yes'}},\n",
      "             'Sunny': {'Humidity': {'High': 'No', 'Normal': 'Yes'}}}}\n"
     ]
    }
   ],
   "source": [
    "import pprint\n",
    "pprint.pprint(tree)"
   ]
  },
  {
   "cell_type": "code",
   "execution_count": 21,
   "metadata": {
    "scrolled": true
   },
   "outputs": [
    {
     "name": "stdout",
     "output_type": "stream",
     "text": [
      "Outlook\n",
      "dict_keys(['Overcast', 'Rain', 'Sunny'])\n",
      "Sunny\n",
      "Humidity\n",
      "dict_keys(['High', 'Normal'])\n",
      "High\n",
      "No\n"
     ]
    }
   ],
   "source": [
    "test={'Outlook':'Sunny','Temperature':'Hot','Humidity':'High','Wind':'Weak'}\n",
    "def func(test, tree, default=None):\n",
    "    attribute = next(iter(tree)) \n",
    "    print(attribute) \n",
    "    if test[attribute] in tree[attribute].keys():\n",
    "        print(tree[attribute].keys())\n",
    "        print(test[attribute])\n",
    "        result = tree[attribute][test[attribute]]\n",
    "        if isinstance(result, dict):\n",
    "            return func(test, result)\n",
    "        else:\n",
    "            return result\n",
    "    else:\n",
    "        return default\n",
    "ans = func(test, tree)\n",
    "print(ans)\n"
   ]
  },
  {
   "cell_type": "code",
   "execution_count": null,
   "metadata": {},
   "outputs": [],
   "source": []
  }
 ],
 "metadata": {
  "kernelspec": {
   "display_name": "Python 3",
   "language": "python",
   "name": "python3"
  },
  "language_info": {
   "codemirror_mode": {
    "name": "ipython",
    "version": 3
   },
   "file_extension": ".py",
   "mimetype": "text/x-python",
   "name": "python",
   "nbconvert_exporter": "python",
   "pygments_lexer": "ipython3",
   "version": "3.7.0"
  }
 },
 "nbformat": 4,
 "nbformat_minor": 2
}
