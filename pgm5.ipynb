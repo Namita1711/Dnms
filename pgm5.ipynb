{
 "cells": [
  {
   "cell_type": "code",
   "execution_count": 13,
   "metadata": {},
   "outputs": [
    {
     "name": "stdout",
     "output_type": "stream",
     "text": [
      "\n",
      " the total number of Training Data : (514, 1)\n",
      "\n",
      " the total number of Test Data : (254, 1)\n",
      "\n",
      " Confusion matrix\n",
      "[[134  29]\n",
      " [ 36  55]]\n",
      "\n",
      " Accuracy of the classifier is 0.7440944881889764\n",
      "\n",
      " The value of Precision 0.6547619047619048\n",
      "\n",
      " The value of Recall 0.6043956043956044\n",
      "Predicted Value for individual Test Data: [1]\n"
     ]
    }
   ],
   "source": [
    "import pandas as pd\n",
    "from sklearn.model_selection import train_test_split\n",
    "from sklearn.naive_bayes import GaussianNB\n",
    "from sklearn import metrics\n",
    "df = pd.read_csv(\"diabetes.csv\")\n",
    "feature_col_names = ['Pregnancies', 'Glucose', 'BloodPressure', 'SkinThickness', 'Insulin',\n",
    "                     'BMI', 'DiabetesPedigreeFunction', 'Age']\n",
    "predicted_class_names = ['Outcome']\n",
    "X = df[feature_col_names].values # these are factors for the prediction\n",
    "y = df[predicted_class_names].values # this is what we want to predict\n",
    "#splitting the dataset into train and test data\n",
    "xtrain,xtest,ytrain,ytest=train_test_split(X,y,test_size=0.33)\n",
    "print ('\\n the total number of Training Data :',ytrain.shape)\n",
    "print ('\\n the total number of Test Data :',ytest.shape)\n",
    "# Training Naive Bayes (NB) classifier on training data.\n",
    "clf = GaussianNB().fit(xtrain,ytrain.ravel())\n",
    "predicted = clf.predict(xtest)\n",
    "predictTestData= clf.predict([[6,148,72,35,0,33.6,0.627,50]])\n",
    "#printing Confusion matrix, accuracy, Precision and Recall\n",
    "print('\\n Confusion matrix')\n",
    "print(metrics.confusion_matrix(ytest,predicted))\n",
    "print('\\n Accuracy of the classifier is',metrics.accuracy_score(ytest,predicted))\n",
    "print('\\n The value of Precision', metrics.precision_score(ytest,predicted))\n",
    "print('\\n The value of Recall', metrics.recall_score(ytest,predicted))\n",
    "print(\"Predicted Value for individual Test Data:\", predictTestData)"
   ]
  },
  {
   "cell_type": "code",
   "execution_count": null,
   "metadata": {},
   "outputs": [],
   "source": []
  }
 ],
 "metadata": {
  "kernelspec": {
   "display_name": "Python 3",
   "language": "python",
   "name": "python3"
  },
  "language_info": {
   "codemirror_mode": {
    "name": "ipython",
    "version": 3
   },
   "file_extension": ".py",
   "mimetype": "text/x-python",
   "name": "python",
   "nbconvert_exporter": "python",
   "pygments_lexer": "ipython3",
   "version": "3.7.0"
  }
 },
 "nbformat": 4,
 "nbformat_minor": 2
}
